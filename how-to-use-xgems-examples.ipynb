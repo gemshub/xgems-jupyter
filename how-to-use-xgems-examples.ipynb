{
 "cells": [
  {
   "cell_type": "markdown",
   "id": "4d6b4084-038e-4f2c-9fb6-06e2c157bf6e",
   "metadata": {},
   "source": [
    "# [**xGEMS**](https://gemshub.github.io/site/start/gemstandalone/#xgems-interface-cpython) \n",
    "is a modern interface (ChemicalEngine) accessible from C/C++ amd Python. Python module enables seamless integration of GEMS calculations into Python workflows, coupled reactive transport simulations, data analysis and machine learning applications. \n",
    "\n",
    "Any calculation done in GEM-Selektor process module can be implemented in a Jupyter notebook.\n",
    "\n",
    "To work with xgems you must first use GEM-Selektor to create a modeling project, having a defined chemical system with respective models and database. Once you are satisfied with the system this can be exported into editable text files (standalone chemical system definition, containing models, parameters, thermodynamic data). These files are then used to initialize any number of chemical engine instances."
   ]
  },
  {
   "cell_type": "markdown",
   "id": "b877034c-e5f9-440d-a3b8-ca0c6c5631b3",
   "metadata": {},
   "source": [
    "### Basics\n",
    "#### [Basics of xgems functionality](how-to-use-xgems-examples/basics_xgems.ipynb)\n",
    "Shows some examples of xgems functions.\n",
    "\n",
    "### Geochemsitry\n",
    "#### [Solubility of calcite in 'tap water' that is heated up in a boiler](how-to-use-xgems-examples/geochemistry/example-calcite/calcite_sol.ipynb)\n",
    "\n",
    "### Cement systems\n",
    "\n",
    "#### [Cement hydration using the Parrot-Killoh model](how-to-use-xgems-examples/cement-systems/hydration/run_cement_hydration_pk_model.ipynb)\n",
    "\n",
    "#### [Process of leaching cement with water or clay pore solution](how-to-use-xgems-examples/cement-systems/leaching/cement_leaching.ipynb)\n",
    "\n",
    "#### [Simulating quartz sand dissolution kinetics](how-to-use-xgems-examples/cement-systems/dissolution/aggregate_dissolution.ipynb)"
   ]
  },
  {
   "cell_type": "code",
   "execution_count": null,
   "id": "804fa639-09ca-448c-a793-c7a56432c0ca",
   "metadata": {},
   "outputs": [],
   "source": []
  }
 ],
 "metadata": {
  "kernelspec": {
   "display_name": "Python 3 (ipykernel)",
   "language": "python",
   "name": "python3"
  },
  "language_info": {
   "codemirror_mode": {
    "name": "ipython",
    "version": 3
   },
   "file_extension": ".py",
   "mimetype": "text/x-python",
   "name": "python",
   "nbconvert_exporter": "python",
   "pygments_lexer": "ipython3",
   "version": "3.10.18"
  }
 },
 "nbformat": 4,
 "nbformat_minor": 5
}
