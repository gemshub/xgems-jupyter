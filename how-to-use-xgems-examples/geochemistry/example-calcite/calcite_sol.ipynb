{
 "cells": [
  {
   "cell_type": "markdown",
   "id": "c3178b21-e9ce-4ca6-86f9-1633db0ebe58",
   "metadata": {},
   "source": [
    "## Example: Calcite solubuility in tap water with increasing temperature \n",
    "\n",
    "**Authors: G. Dan Miron**"
   ]
  },
  {
   "cell_type": "code",
   "execution_count": null,
   "id": "4bf65931-7cec-4feb-9429-d736349d1d0f",
   "metadata": {},
   "outputs": [],
   "source": [
    "import xgems as xg\n",
    "import numpy as np\n",
    "import pandas as pd"
   ]
  },
  {
   "cell_type": "code",
   "execution_count": null,
   "id": "e1a09cde-6b6f-49eb-aa22-b93597d1194d",
   "metadata": {},
   "outputs": [],
   "source": [
    "xg.update_loggers(False, '', 6)"
   ]
  },
  {
   "cell_type": "code",
   "execution_count": null,
   "id": "db8634b9-6d68-43b8-817f-46d5ca8cac50",
   "metadata": {},
   "outputs": [],
   "source": [
    "xg_system_filename='gemsfiles/calcite-dat.lst'\n",
    "xgEngine = xg.ChemicalEngine(xg_system_filename)\n"
   ]
  },
  {
   "cell_type": "code",
   "execution_count": null,
   "id": "3c6722d9-d5fd-4a10-9f9c-1133a16e71e8",
   "metadata": {},
   "outputs": [],
   "source": [
    "# geting the index of phases\n",
    "ndx_aq = xgEngine.indexPhase('aq_gen')\n",
    "ndx_cal = xgEngine.indexPhase('Calcite')\n",
    "\n",
    "# getting the index of elements\n",
    "ndx_C = xgEngine.indexElement('C')\n",
    "ndx_Ca = xgEngine.indexElement('Ca')\n",
    "ndx_Nit= xgEngine.indexElement('Nit')\n",
    "ndx_O= xgEngine.indexElement('O')\n",
    "ndx_H = xgEngine.indexElement('H')"
   ]
  },
  {
   "cell_type": "code",
   "execution_count": null,
   "id": "190898a5-9a6d-471d-945f-7b27ee762573",
   "metadata": {},
   "outputs": [],
   "source": [
    "P=1e5 # 10 bar = 1e5 Pa\n",
    "T=20.0+273.15 # Temperatur in Kelvin\n",
    "table_data = {'T' : [], '[C]': [], '[Ca]': [], 'calcite': [], 'pH':[], 'gems_code': [] } # input/output csv file\n",
    "for t in range(5, 80, 2): # loop for changing the temperature\n",
    "    xgEngine.setPT(P, t+273.15) # set temperature\n",
    "    code = xgEngine.reequilibrate(False)     # reequilibrate\n",
    "    table_data[\"T\"].append(t) # extract the results\n",
    "    table_data[\"[C]\"].append(xgEngine.elementAmountsInPhase(ndx_aq)[ndx_C])\n",
    "    table_data[\"[Ca]\"].append(xgEngine.elementAmountsInPhase(ndx_aq)[ndx_Ca])\n",
    "    table_data[\"calcite\"].append(xgEngine.phaseAmount(ndx_cal))\n",
    "    table_data[\"pH\"].append(xgEngine.pH())\n",
    "    table_data[\"gems_code\"].append(code)"
   ]
  },
  {
   "cell_type": "code",
   "execution_count": null,
   "id": "0e9a6f2c-964e-46b3-a7b0-df146e3a2e86",
   "metadata": {},
   "outputs": [],
   "source": [
    "df=pd.DataFrame(table_data)"
   ]
  },
  {
   "cell_type": "code",
   "execution_count": null,
   "id": "7ccb093b-d053-47f1-9f8c-9fa8b2eeabc1",
   "metadata": {
    "tags": []
   },
   "outputs": [],
   "source": [
    "# plot the results\n",
    "import matplotlib.pyplot as plt\n",
    "import numpy as np\n",
    "\n",
    "plt.rcParams.update({'font.size': 15})\n",
    "\n",
    "# Create plot\n",
    "plt.figure(figsize=(7,5))\n",
    "plt.plot(df['T'], df['[C]'], label='[C]', marker='o')\n",
    "plt.plot(df['T'], df['[Ca]'], label='[Ca]', marker='s')\n",
    "plt.plot(df['T'], df['calcite'], label='calcite', marker='^')\n",
    "\n",
    "# Labels and title\n",
    "plt.xlabel('Temperature (C)')\n",
    "plt.ylabel('amount (mol)')\n",
    "plt.title('Calcite solubility (tap water) vs Temperature')\n",
    "plt.legend()\n",
    "plt.grid(True)\n",
    "\n",
    "# Show plot\n",
    "plt.show()"
   ]
  },
  {
   "cell_type": "code",
   "execution_count": null,
   "id": "29890e2b-2a2b-4f20-b2c9-30c81a6169e2",
   "metadata": {},
   "outputs": [],
   "source": [
    "bn = xgEngine.elementAmounts().copy()\n",
    "air = bn.copy()"
   ]
  },
  {
   "cell_type": "code",
   "execution_count": null,
   "id": "77b36c1e-5140-4d05-9064-5db9f2f7ba41",
   "metadata": {},
   "outputs": [],
   "source": [
    "air[:] = 1e-9"
   ]
  },
  {
   "cell_type": "code",
   "execution_count": null,
   "id": "d7d74146-571a-464f-8952-b16cb8e770b3",
   "metadata": {},
   "outputs": [],
   "source": [
    "# 1 kg of dry air # 1 mol of dry air\n",
    "air[ndx_Nit]= 54.72952 #0.199371\n",
    "air[ndx_C]= 0.0124757 #0.003145077\n",
    "air[ndx_O]=14.57994 #0.7974839"
   ]
  },
  {
   "cell_type": "code",
   "execution_count": null,
   "id": "6ed43afc-4d37-4b32-b32a-1fb343b67553",
   "metadata": {},
   "outputs": [],
   "source": [
    "table_data = {'T' : [], '[C]': [], '[Ca]': [], 'calcite': [], 'pH':[], 'gems_code': [] } # input/output csv file\n",
    "for t in range(5, 80, 2): # loop for changing the temperature\n",
    "    xgEngine.setPT(P, t+273.15) # set temperature\n",
    "    xgEngine.setColdStart()\n",
    "    code = xgEngine.equilibrate(t+273.15, P, bn+air)\n",
    "    table_data[\"T\"].append(t) # extract the results\n",
    "    table_data[\"[C]\"].append(xgEngine.elementAmountsInPhase(ndx_aq)[ndx_C])\n",
    "    table_data[\"[Ca]\"].append(xgEngine.elementAmountsInPhase(ndx_aq)[ndx_Ca])\n",
    "    table_data[\"calcite\"].append(xgEngine.phaseAmount(ndx_cal))\n",
    "    table_data[\"pH\"].append(xgEngine.pH())\n",
    "    table_data[\"gems_code\"].append(code)"
   ]
  },
  {
   "cell_type": "code",
   "execution_count": null,
   "id": "b6a660ca-2bd2-43c0-817f-6b21001e6e5c",
   "metadata": {},
   "outputs": [],
   "source": [
    "df=pd.DataFrame(table_data)"
   ]
  },
  {
   "cell_type": "code",
   "execution_count": null,
   "id": "523bc379-3be2-4919-81fb-727e7006cea9",
   "metadata": {},
   "outputs": [],
   "source": [
    "# Create plot\n",
    "plt.figure(figsize=(7,5))\n",
    "\n",
    "# change fontsize\n",
    "plt.rcParams.update({'font.size': 15})\n",
    "\n",
    "# table_data entries are lists....better is to work with dataframes, as this allows mathematical transformations of collumns!\n",
    "#plt.plot(table_data['T'], table_data['[C]'], label='[C]', marker='o')\n",
    "#plt.plot(table_data['T'], table_data['[Ca]'], label='[Ca]', marker='s')\n",
    "#plt.plot(table_data['T'], table_data['calcite'], label='calcite', marker='^')\n",
    "\n",
    "\n",
    "plt.plot(df['T'], df['[C]'], label='[C]', marker='o')\n",
    "plt.plot(df['T'], df['[Ca]'], label='[Ca]', marker='s')\n",
    "plt.plot(df['T'], df['calcite'], label='calcite with air', marker='^')\n",
    "\n",
    "# Labels and title\n",
    "plt.xlabel('Temperature (°C)')\n",
    "plt.ylabel('amount (mol)')\n",
    "plt.title('Calcite solubility (tap water) vs Temperature')\n",
    "plt.legend(loc=(\"center right\"))\n",
    "plt.grid(True)\n",
    "\n",
    "# Show plot\n",
    "plt.show()"
   ]
  },
  {
   "cell_type": "code",
   "execution_count": null,
   "id": "b0dc2058-6baf-405b-adb0-a691d2cb8577",
   "metadata": {},
   "outputs": [],
   "source": [
    "b_calcite = bn.copy()\n",
    "b_calcite[:] = 1e-9\n",
    "\n",
    "b_calcite[ndx_C] = 1\n",
    "b_calcite[ndx_O] = 3\n",
    "b_calcite[ndx_Ca] = 1\n",
    "\n",
    "\n",
    "b_water = bn.copy()\n",
    "b_water[:] = 1e-9\n",
    "\n",
    "b_water[ndx_H] = 2*(1000/18.015)\n",
    "b_water[ndx_O] = 1*(1000/18.015) + 0.001"
   ]
  },
  {
   "cell_type": "code",
   "execution_count": null,
   "id": "04505cf0-8444-449a-95c1-9f753d182bd6",
   "metadata": {},
   "outputs": [],
   "source": []
  },
  {
   "cell_type": "code",
   "execution_count": null,
   "id": "67529c39-97d7-4fc9-b6ba-d583a16889eb",
   "metadata": {},
   "outputs": [],
   "source": [
    "table_data = {'T' : [], '[C]': [], '[Ca]': [], 'calcite': [], 'pH':[], 'gems_code': [] } # input/output csv file\n",
    "for t in range(5, 80, 2): # loop for changing the temperature\n",
    "    xgEngine.setPT(P, t+273.15) # set temperature\n",
    "    xgEngine.setColdStart()\n",
    "    code = xgEngine.equilibrate(t+273.15, P, b_water+b_calcite*0.01)\n",
    "    table_data[\"T\"].append(t) # extract the results\n",
    "    table_data[\"[C]\"].append(xgEngine.elementAmountsInPhase(ndx_aq)[ndx_C])\n",
    "    table_data[\"[Ca]\"].append(xgEngine.elementAmountsInPhase(ndx_aq)[ndx_Ca])\n",
    "    table_data[\"calcite\"].append(xgEngine.phaseAmount(ndx_cal))\n",
    "    table_data[\"pH\"].append(xgEngine.pH())\n",
    "    table_data[\"gems_code\"].append(code)"
   ]
  },
  {
   "cell_type": "code",
   "execution_count": null,
   "id": "cbc01226-0efd-440b-a1e0-af91845cb084",
   "metadata": {},
   "outputs": [],
   "source": [
    "df=pd.DataFrame(table_data)"
   ]
  },
  {
   "cell_type": "code",
   "execution_count": null,
   "id": "6d3459a3-5522-44bf-9626-885dadcc6acc",
   "metadata": {},
   "outputs": [],
   "source": [
    "# Create plot\n",
    "plt.figure(figsize=(7,5))\n",
    "\n",
    "# change fontsize\n",
    "plt.rcParams.update({'font.size': 15})\n",
    "\n",
    "# table_data entries are lists....better is to work with dataframes, as this allows mathematical transformations of collumns!\n",
    "#plt.plot(table_data['T'], table_data['[C]'], label='[C]', marker='o')\n",
    "#plt.plot(table_data['T'], table_data['[Ca]'], label='[Ca]', marker='s')\n",
    "#plt.plot(table_data['T'], table_data['calcite'], label='calcite', marker='^')\n",
    "\n",
    "\n",
    "plt.plot(df['T'], df['[C]'], label='[C]', marker='o')\n",
    "plt.plot(df['T'], df['[Ca]'], label='[Ca]', marker='s')\n",
    "plt.plot(df['T'], df['calcite'], label='calcite without air', marker='^')\n",
    "\n",
    "# Labels and title\n",
    "plt.xlabel('Temperature (°C)')\n",
    "plt.ylabel('amount (mol)')\n",
    "plt.title('Calcite solubility (water) vs Temperature')\n",
    "plt.legend(loc=(\"center right\"))\n",
    "plt.grid(True)\n",
    "\n",
    "# Show plot\n",
    "plt.show()"
   ]
  },
  {
   "cell_type": "code",
   "execution_count": null,
   "id": "ef74e016-5142-4865-b2b8-2bc91a18d42b",
   "metadata": {},
   "outputs": [],
   "source": [
    "table_data = {'T' : [], '[C]': [], '[Ca]': [], 'calcite': [], 'pH':[], 'gems_code': [] } # input/output csv file\n",
    "for t in range(5, 80, 2): # loop for changing the temperature\n",
    "    xgEngine.setPT(P, t+273.15) # set temperature\n",
    "    xgEngine.setColdStart()\n",
    "    code = xgEngine.equilibrate(t+273.15, P, b_water+b_calcite*0.01+air)\n",
    "    table_data[\"T\"].append(t) # extract the results\n",
    "    table_data[\"[C]\"].append(xgEngine.elementAmountsInPhase(ndx_aq)[ndx_C])\n",
    "    table_data[\"[Ca]\"].append(xgEngine.elementAmountsInPhase(ndx_aq)[ndx_Ca])\n",
    "    table_data[\"calcite\"].append(xgEngine.phaseAmount(ndx_cal))\n",
    "    table_data[\"pH\"].append(xgEngine.pH())\n",
    "    table_data[\"gems_code\"].append(code)"
   ]
  },
  {
   "cell_type": "code",
   "execution_count": null,
   "id": "463db521-c1b9-4260-a34b-a93db8ade057",
   "metadata": {},
   "outputs": [],
   "source": [
    "df2=pd.DataFrame(table_data)"
   ]
  },
  {
   "cell_type": "code",
   "execution_count": null,
   "id": "6bbfe683-df0d-491b-abe9-9ab7ba767363",
   "metadata": {},
   "outputs": [],
   "source": [
    "# plot the results\n",
    "import matplotlib.pyplot as plt\n",
    "import numpy as np\n",
    "\n",
    "\n",
    "# Create plot\n",
    "plt.figure(figsize=(7,5))\n",
    "\n",
    "# change fontsize\n",
    "plt.rcParams.update({'font.size': 15})\n",
    "\n",
    "# table_data entries are lists....better is to work with dataframes, as this allows mathematical transformations of collumns!\n",
    "#plt.plot(table_data['T'], table_data['[C]'], label='[C]', marker='o')\n",
    "#plt.plot(table_data['T'], table_data['[Ca]'], label='[Ca]', marker='s')\n",
    "#plt.plot(table_data['T'], table_data['calcite'], label='calcite', marker='^')\n",
    "\n",
    "#plt.plot(df['T'], df['[C]'], label='[C]', marker='o')\n",
    "#plt.plot(df['T'], df['[Ca]'], label='[Ca]', marker='s')\n",
    "plt.plot(df['T'], df['calcite'], label='calcite with air', marker='^')\n",
    "plt.plot(df2['T'], df2['calcite'], label='calcite without air', marker='^')\n",
    "\n",
    "# Labels and title\n",
    "plt.xlabel('Temperature (°C)')\n",
    "plt.ylabel('amount (mol)')\n",
    "plt.title('Calcite solubility (water+air) vs Temperature')\n",
    "plt.legend(loc=(\"lower right\"))\n",
    "plt.grid(True)\n",
    "\n",
    "# Show plot\n",
    "plt.show()"
   ]
  },
  {
   "cell_type": "code",
   "execution_count": null,
   "id": "7280b642-0b50-4c9d-8c44-26686805cdb8",
   "metadata": {},
   "outputs": [],
   "source": []
  }
 ],
 "metadata": {
  "kernelspec": {
   "display_name": "Python 3 (ipykernel)",
   "language": "python",
   "name": "python3"
  },
  "language_info": {
   "codemirror_mode": {
    "name": "ipython",
    "version": 3
   },
   "file_extension": ".py",
   "mimetype": "text/x-python",
   "name": "python",
   "nbconvert_exporter": "python",
   "pygments_lexer": "ipython3",
   "version": "3.10.18"
  }
 },
 "nbformat": 4,
 "nbformat_minor": 5
}
