{
 "cells": [
  {
   "cell_type": "markdown",
   "id": "becc0b3f-9e09-49c5-a264-6cc053df15e7",
   "metadata": {},
   "source": [
    "what I am doing"
   ]
  },
  {
   "cell_type": "code",
   "execution_count": 1,
   "id": "76c7c50f-babf-4194-ab09-9bc4f05c9417",
   "metadata": {},
   "outputs": [],
   "source": [
    "import xgems as xg\n",
    "import numpy as np\n",
    "import pandas as pd"
   ]
  },
  {
   "cell_type": "code",
   "execution_count": 2,
   "id": "e4ae263c-7750-432c-9dce-43aa9db91ec6",
   "metadata": {},
   "outputs": [],
   "source": [
    "xg_system_filename='gemsfiles/calcite-dat.lst'\n",
    "\n",
    "# creating a xGEMS system based on a gems input file \n",
    "xgEngine = xg.ChemicalEngine(xg_system_filename)"
   ]
  },
  {
   "cell_type": "code",
   "execution_count": 3,
   "id": "73f808a0-cb60-4e2a-bdb6-dc56e466eac2",
   "metadata": {},
   "outputs": [],
   "source": [
    "# getting the index of phases\n",
    "ndx_aq = xgEngine.indexPhase('aq_gen')\n",
    "ndx_cal = xgEngine.indexPhase('Calcite')\n",
    "ndx_C = xgEngine.indexElement('C')\n",
    "ndx_Ca = xgEngine.indexElement('Ca')\n"
   ]
  },
  {
   "cell_type": "code",
   "execution_count": 4,
   "id": "a70195b2-9d3e-47f7-979f-e218394c8300",
   "metadata": {},
   "outputs": [],
   "source": [
    "# pressure + temperature for GEMS calculations\n",
    "P=1e5 # 10 bar = 1e5 Pa\n",
    "T=20.0+273.15 # Temperatur in Kelvin\n",
    "\n"
   ]
  },
  {
   "cell_type": "code",
   "execution_count": 5,
   "id": "95a7202d-e073-4982-a7d5-c2831a3277b4",
   "metadata": {},
   "outputs": [
    {
     "data": {
      "text/plain": [
       "2"
      ]
     },
     "execution_count": 5,
     "metadata": {},
     "output_type": "execute_result"
    }
   ],
   "source": [
    "xgEngine.reequilibrate(False)"
   ]
  },
  {
   "cell_type": "code",
   "execution_count": 6,
   "id": "138ecaac-959e-4f66-853b-8722ec6ed20d",
   "metadata": {},
   "outputs": [],
   "source": [
    "# input output csv file\n",
    "table_data = {\n",
    "        'T' : [],\n",
    "        '[C]': [],\n",
    "        '[Ca]': [],\n",
    "        'calcite': [],\n",
    "        'pH':[],\n",
    "        'gems_code': []\n",
    "        }"
   ]
  },
  {
   "cell_type": "markdown",
   "id": "e73359fa-c007-49ea-ad1a-7d21fb5da62c",
   "metadata": {},
   "source": []
  },
  {
   "cell_type": "code",
   "execution_count": 7,
   "id": "dad16e4e-75a8-4038-8d5e-0c300d4b8507",
   "metadata": {},
   "outputs": [],
   "source": [
    "# loop for changing the temperature\n",
    "\n",
    "for t in range(5, 80, 2):\n",
    "    \n",
    "    # set temperature\n",
    "    xgEngine.setPT(P, t+273.15)\n",
    "    # reequilibrate\n",
    "    code = xgEngine.reequilibrate(False)\n",
    "    \n",
    "    # extract the results\n",
    "    table_data[\"T\"].append(t)\n",
    "    table_data[\"[C]\"].append(xgEngine.elementAmountsInPhase(ndx_aq)[ndx_C])\n",
    "    table_data[\"[Ca]\"].append(xgEngine.elementAmountsInPhase(ndx_aq)[ndx_Ca])\n",
    "    table_data[\"calcite\"].append(xgEngine.phaseAmount(ndx_cal))\n",
    "    table_data[\"pH\"].append(xgEngine.pH())\n",
    "    table_data[\"gems_code\"].append(code)\n",
    "\n"
   ]
  },
  {
   "cell_type": "code",
   "execution_count": 8,
   "id": "0a29d671-782c-4697-bdda-d3ca3762c0b4",
   "metadata": {},
   "outputs": [
    {
     "data": {
      "image/png": "[encoded data removed]",
      "text/plain": [
       "<Figure size 576x432 with 1 Axes>"
      ]
     },
     "metadata": {
      "needs_background": "light"
     },
     "output_type": "display_data"
    }
   ],
   "source": [
    "# plot the results\n",
    "import matplotlib.pyplot as plt\n",
    "import numpy as np\n",
    "\n",
    "# Create plot\n",
    "plt.figure(figsize=(8, 6))\n",
    "plt.plot(table_data['T'], table_data['[C]'], label='[C]', marker='o')\n",
    "plt.plot(table_data['T'], table_data['[Ca]'], label='[Ca]', marker='s')\n",
    "plt.plot(table_data['T'], table_data['calcite'], label='calcite', marker='^')\n",
    "\n",
    "# Labels and title\n",
    "plt.xlabel('Temperature (T)')\n",
    "plt.ylabel('Concentration')\n",
    "plt.title('Calcite solubility vs Temperature')\n",
    "plt.legend()\n",
    "plt.grid(True)\n",
    "\n",
    "# Show plot\n",
    "plt.show()"
   ]
  },
  {
   "cell_type": "code",
   "execution_count": null,
   "id": "b369b7cb-f2cb-4f62-a940-b04dc0efc340",
   "metadata": {},
   "outputs": [],
   "source": []
  }
 ],
 "metadata": {
  "kernelspec": {
   "display_name": "Python [conda env:.conda-digitaltwin]",
   "language": "python",
   "name": "conda-env-.conda-digitaltwin-py"
  },
  "language_info": {
   "codemirror_mode": {
    "name": "ipython",
    "version": 3
   },
   "file_extension": ".py",
   "mimetype": "text/x-python",
   "name": "python",
   "nbconvert_exporter": "python",
   "pygments_lexer": "ipython3",
   "version": "3.7.5"
  }
 },
 "nbformat": 4,
 "nbformat_minor": 5
}
