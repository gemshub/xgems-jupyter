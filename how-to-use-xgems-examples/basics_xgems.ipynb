{
 "cells": [
  {
   "cell_type": "markdown",
   "id": "e13e8490-13a7-4d0e-a1af-20cb351f980b",
   "metadata": {},
   "source": [
    "# Walk through the basic functionality of xgems\n",
    "\n",
    "**Authors: G. Dan Miron**\n",
    "\n",
    "For more details, consult the xGEMS [documentation](https://xgems.readthedocs.io/en/latest/) or [repository](https://github.com/gemshub/xgems).\n"
   ]
  },
  {
   "cell_type": "markdown",
   "id": "c5f19526-aec7-4d0a-b580-e8291cc46077",
   "metadata": {},
   "source": [
    "## Importing python packages "
   ]
  },
  {
   "cell_type": "code",
   "execution_count": null,
   "id": "ffe892ab-bc79-4e9b-964d-62e66722c84c",
   "metadata": {},
   "outputs": [],
   "source": [
    "# comments in python use #\n",
    "import xgems as xg"
   ]
  },
  {
   "cell_type": "markdown",
   "id": "ab6dcbb4-03b2-4ba0-bdd9-bb9ac928e2e5",
   "metadata": {},
   "source": [
    "## Initalize a chemical engine\n",
    "\n",
    "- show the `Tab button` functionality (selected function and press enter)\n",
    "- show help help(xg.ChemicalEngine), and link to the documentation - learn how to initalize an engine object\n",
    "- initialize with exported GEMS3K files \n",
    "- assign the chemical engine to a variable `xgEngine` you can also call it gems, or other name as you please, this is how a standalone gems calculator (having the PC chemical system structure) is initalized"
   ]
  },
  {
   "cell_type": "code",
   "execution_count": null,
   "id": "9c5600d6-18c7-456e-a472-2c9a7903595c",
   "metadata": {},
   "outputs": [],
   "source": [
    "# initialize with exported GEMS3K files \n",
    "# A variable is like a labeled box where you can store information or values.  \n",
    "# You can put something in the box, change what's inside, and use it later whenever you need it.\n",
    "# variables can store, numbers, lists, and complex 'objects'\n",
    "xgEngine = xg.ChemicalEngine('cement-systems/leaching/gems_files/PC_2025-dat.lst')"
   ]
  },
  {
   "cell_type": "markdown",
   "id": "b68edfe9-2020-4a95-8c2c-284e063e2ba9",
   "metadata": {},
   "source": [
    "## Equilibrate, return codes, output\n",
    "- most used functions reequilibrate, equilibrate\n",
    "- xgems calculation modes\n",
    "  \n",
    "        warmstart - SIA smart initial approximation (using previous results as start guess)\n",
    "        coldstart - automatic initial approximation (AIA) \n",
    "  \n",
    "- xgems return code\n",
    "  \n",
    "        0 \"No GEM re-calculation needed\"\n",
    "        1 \"Need GEM calculation with LPP (automatic) initial approximation (AIA)\"\n",
    "        2 \"OK after GEM calculation with LPP AIA\"\n",
    "        3 \"Bad (not fully trustful) result after GEM calculation with LPP AIA\"\n",
    "        4 \"Failure (no result) in GEM calculation with LPP AIA\"\n",
    "        5 \"Need GEM calculation with no-LPP (smart) IA, SIA using the previous speciation (full DATABR lists only)\"\n",
    "        6 \"OK after GEM calculation with SIA\"\n",
    "        7 \"Bad (not fully trustful) result after GEM calculation with SIA\"\n",
    "        8 \"Failure (no result) in GEM calculation with SIA\"\n",
    "        9 \"Terminal error has occurred in GEMS3K (e.g. memory corruption). Restart is required.\"\n",
    "- print of chemical system results\n",
    "- print to txt, ask copilot, chatgpt, etc \n"
   ]
  },
  {
   "cell_type": "code",
   "execution_count": null,
   "id": "ced5bc81-69bb-4d7e-8d50-d921d6bc74f0",
   "metadata": {},
   "outputs": [],
   "source": [
    "code = xgEngine.reequilibrate() # reequilibrate using warmstart\n",
    "#xgEngine.setColdStart()  # once is set is set"
   ]
  },
  {
   "cell_type": "code",
   "execution_count": null,
   "id": "520483e2-84ed-4630-b891-4f0ecd667c1d",
   "metadata": {},
   "outputs": [],
   "source": [
    "print('GEMS return code', code)"
   ]
  },
  {
   "cell_type": "code",
   "execution_count": null,
   "id": "b373436a-8926-4961-b258-6323dc610832",
   "metadata": {},
   "outputs": [],
   "source": [
    "#print(xgEngine)\n",
    "with open(\"result.txt\", \"w\") as f:\n",
    "    f.write(str(xgEngine))"
   ]
  },
  {
   "cell_type": "markdown",
   "id": "ce386554-403c-47aa-9617-b73989011a66",
   "metadata": {},
   "source": [
    "## How to access the results through functions\n",
    "\n",
    "- pH, ionicStrength, systemMass"
   ]
  },
  {
   "cell_type": "code",
   "execution_count": null,
   "id": "d713ba28-b645-4444-91c8-dbbba6817d95",
   "metadata": {},
   "outputs": [],
   "source": [
    "print(xgEngine.pH())\n",
    "print(xgEngine.ionicStrength())\n",
    "print(xgEngine.systemMass(), ' kg')"
   ]
  },
  {
   "cell_type": "markdown",
   "id": "79feb6e2-a261-41f3-8e86-868cc64cdded",
   "metadata": {},
   "source": [
    "## How to get composition and properties of phases, species\n",
    "\n",
    "### A. Get data indexes \n",
    "\n",
    "- xgems mainly works with data tables, where the indexes of elements, species, phases are needed - first thing to do is get these indexes by name (as in GEM-Selektor);\n",
    "- get index of elements Ca, Si\n",
    "- get index of species H+, Ca+2\n",
    "- get index of phases aq_gen, Portlandite, Calcite  "
   ]
  },
  {
   "cell_type": "code",
   "execution_count": null,
   "id": "6a2d610f-171f-42b4-8414-e81a02b9284b",
   "metadata": {},
   "outputs": [],
   "source": [
    "ndx_Ca = xgEngine.indexElement('Ca')\n",
    "ndx_Si = xgEngine.indexElement('Si')\n",
    "ndx_Hplus = xgEngine.indexSpecies('H+')\n",
    "ndx_Caplus2 = xgEngine.indexSpecies('Ca+2')\n",
    "ndx_aq_gen = xgEngine.indexPhase('aq_gen')\n",
    "ndx_portlandite = xgEngine.indexPhase('Portlandite')\n",
    "ndx_calcite = xgEngine.indexPhase('Calcite')"
   ]
  },
  {
   "cell_type": "markdown",
   "id": "53c2492b-1682-41c5-af67-30deeb785dc1",
   "metadata": {},
   "source": [
    "### B. Get properties\n",
    "\n",
    "- composition of phases solution aq_gen, do help(xgEngine.elementAmountsInPhase), print composition\n",
    "- what about concentrations of Ca in aq_gen?"
   ]
  },
  {
   "cell_type": "code",
   "execution_count": null,
   "id": "f907dfec-f089-42fd-938b-4c193c2f7062",
   "metadata": {},
   "outputs": [],
   "source": [
    "#help(xgEngine.elementAmountsInPhase)\n",
    "\n",
    "aq_composition = xgEngine.elementAmountsInPhase(ndx_aq_gen)\n",
    "print(aq_composition)\n",
    "\n",
    "# this is an array, list in python [ elements, ], elements in the list are accessed by their index, the order in the list is the order of elements in gems chemical system \n",
    "# O has the same index in all composition elements lists that xgems returns"
   ]
  },
  {
   "cell_type": "code",
   "execution_count": null,
   "id": "a38c3a8c-0f59-48be-8f8b-e933a5f575c0",
   "metadata": {},
   "outputs": [],
   "source": [
    "# concentration of Ca in aq_gen mol/L\n",
    "# 1st we need the phase volume, divide by 1000 from m3 to dm3\n",
    "aq_volume = xgEngine.phaseVolume(ndx_aq_gen)*1000\n",
    "\n",
    "# 2nd we get the Ca in aq_gen using its index and divide it by solution volume\n",
    "# lists in python use square brackets \n",
    "print('the concentration of Ca in solution is', aq_composition[ndx_Ca]/aq_volume, 'mol/L')\n",
    "\n",
    "# in log10 using numpy\n",
    "import numpy as np\n",
    "print('the log10 concentration of Ca in solution is', np.log10(aq_composition[ndx_Ca]/aq_volume), 'mol/L')"
   ]
  },
  {
   "cell_type": "markdown",
   "id": "53fd7aa9-98c1-4732-bfbb-145c7b290d9c",
   "metadata": {},
   "source": [
    "### How to get Ca/Si in C-S-H?"
   ]
  },
  {
   "cell_type": "code",
   "execution_count": null,
   "id": "dcbc2b64-c3f5-46cb-a662-29c17ea0a8a5",
   "metadata": {},
   "outputs": [],
   "source": [
    "## exercise or live depending on the time "
   ]
  },
  {
   "cell_type": "markdown",
   "id": "d8174d4a-747c-4c13-994f-82a3c1695ce7",
   "metadata": {},
   "source": [
    "### Get more properties, etc\n",
    "\n",
    "- saturation index calcite, portlandite\n",
    "- pH from -log activity of H+"
   ]
  },
  {
   "cell_type": "code",
   "execution_count": null,
   "id": "97156b6e-cd3e-4882-abb5-a43c3127f0b0",
   "metadata": {},
   "outputs": [],
   "source": [
    "xgEngine.phaseSatIndex(ndx_calcite)\n",
    "#xgEngine.phaseSatIndex(ndx_portlandite)"
   ]
  },
  {
   "cell_type": "code",
   "execution_count": null,
   "id": "8d089fb1-6f27-483c-95b3-b8bcbbf4bb2f",
   "metadata": {},
   "outputs": [],
   "source": [
    "print('pH from H+ acitivty',-xgEngine.lnActivities()[ndx_Hplus]/np.log(10))"
   ]
  },
  {
   "cell_type": "markdown",
   "id": "97c1fe8f-e1bb-461f-8265-df673ae5af98",
   "metadata": {},
   "source": [
    "## How to to equilibrate a new composition\n",
    "\n",
    "- show b, the basic input in gem, follows the index of elements, same order as in GEMS\n",
    "- create a b_calcite, in moles (needs ndx of O, C)\n",
    "- get molar mass of calcite, annd use it to convert the b_calcite for 1 kg of calcite \n",
    "- add CaCO3 5 g equilibrate, print results\n",
    "- supress calcite and get sat index, use help(xgEngine.setSpeciesUpperLimit)"
   ]
  },
  {
   "cell_type": "code",
   "execution_count": null,
   "id": "9e8c5957-5cb5-438b-956f-287002e6912d",
   "metadata": {},
   "outputs": [],
   "source": [
    "b_PC = xgEngine.elementAmounts().copy() # this is the recipe of our exported system\n",
    "b_PC"
   ]
  },
  {
   "cell_type": "code",
   "execution_count": null,
   "id": "9de6f4c9-2033-46a8-87ec-be7fc5014786",
   "metadata": {},
   "outputs": [],
   "source": [
    "# 1st we need an empty b for calcite (material), like we would create a compos, \n",
    "# but this time we need to do the work, in the future update one would be able to add complex chemical copounds in different units\n",
    "# and xgems will do the conversions to b as the compos in GEM-Selektor\n",
    "\n",
    "b_calcite =  xgEngine.elementAmounts().copy()\n",
    "b_calcite[:] = 1e-9 # empty \n",
    "\n",
    "ndx_C = xgEngine.indexElement('C')\n",
    "ndx_O = xgEngine.indexElement('O')\n",
    "\n",
    "b_calcite[ndx_Ca] = 1\n",
    "b_calcite[ndx_C] = 1\n",
    "b_calcite[ndx_O] = 3\n",
    "b_calcite\n",
    "\n",
    "ndx_cal = xgEngine.indexSpecies('Cal')\n",
    "\n",
    "M_calcite = xgEngine.speciesMolarMasses()[ndx_cal]*1000\n",
    "M_calcite"
   ]
  },
  {
   "cell_type": "code",
   "execution_count": null,
   "id": "bfe1ec30-9850-4868-a52d-28802a3f47ec",
   "metadata": {},
   "outputs": [],
   "source": [
    "# convert mol for 1 kg of calcite\n",
    "b_calcite = (1000*b_calcite)/M_calcite"
   ]
  },
  {
   "cell_type": "code",
   "execution_count": null,
   "id": "05e3defb-9461-4c73-945c-9b10e2555236",
   "metadata": {},
   "outputs": [],
   "source": [
    "b_calcite"
   ]
  },
  {
   "cell_type": "markdown",
   "id": "8c0fe3f7-5fca-4f2c-8a27-ee484cb75581",
   "metadata": {},
   "source": [
    "### the equilibrate function\n",
    "- this function needs the following variables as input: T (K), P (Pa) and b (mol)"
   ]
  },
  {
   "cell_type": "code",
   "execution_count": null,
   "id": "f9630f86-79b5-4242-9428-c50a9169698e",
   "metadata": {},
   "outputs": [],
   "source": [
    "# add 5 g of calcite and equilibrate\n",
    "P=1e5 # 10 bar = 1e5 Pa\n",
    "T=20.0+273.15 # Temperatur in Kelvin\n",
    "\n",
    "b_recipe_new = b_PC + 0.005*b_calcite\n",
    "\n",
    "code = xgEngine.equilibrate(T, P, b_recipe_new)\n",
    "code"
   ]
  },
  {
   "cell_type": "code",
   "execution_count": null,
   "id": "e8d25408-1d5f-4b40-88d6-6c924ab6218f",
   "metadata": {},
   "outputs": [],
   "source": [
    "#print(xgEngine)"
   ]
  },
  {
   "cell_type": "code",
   "execution_count": null,
   "id": "229a5d2d-21a5-415b-9ac5-5118603119d6",
   "metadata": {},
   "outputs": [],
   "source": [
    "# supress species in phase, in GEMS is Upper_KC\n",
    "xgEngine.setSpeciesUpperLimit('Cal', 0.0)\n",
    "\n",
    "# equilibrate\n",
    "code = xgEngine.equilibrate(T, P, b_recipe_new)\n",
    "code"
   ]
  },
  {
   "cell_type": "code",
   "execution_count": null,
   "id": "e032f76f-5fbe-4f3f-9d85-4bc1819c8330",
   "metadata": {},
   "outputs": [],
   "source": [
    "#print(xgEngine)"
   ]
  },
  {
   "cell_type": "code",
   "execution_count": null,
   "id": "e48be341-f242-45f3-bc96-e42a17e704b4",
   "metadata": {},
   "outputs": [],
   "source": [
    "# retrieve saturation index \n",
    "xgEngine.phaseSatIndex(ndx_calcite)"
   ]
  },
  {
   "cell_type": "code",
   "execution_count": null,
   "id": "e6209b01-e11b-4873-ac48-8bbae3599951",
   "metadata": {},
   "outputs": [],
   "source": [
    "# thermodynamic properties"
   ]
  },
  {
   "cell_type": "code",
   "execution_count": null,
   "id": "d546fe82-94c3-4098-80a8-197e0413519c",
   "metadata": {},
   "outputs": [],
   "source": []
  }
 ],
 "metadata": {
  "kernelspec": {
   "display_name": "Python 3 (ipykernel)",
   "language": "python",
   "name": "python3"
  },
  "language_info": {
   "codemirror_mode": {
    "name": "ipython",
    "version": 3
   },
   "file_extension": ".py",
   "mimetype": "text/x-python",
   "name": "python",
   "nbconvert_exporter": "python",
   "pygments_lexer": "ipython3",
   "version": "3.10.18"
  }
 },
 "nbformat": 4,
 "nbformat_minor": 5
}
