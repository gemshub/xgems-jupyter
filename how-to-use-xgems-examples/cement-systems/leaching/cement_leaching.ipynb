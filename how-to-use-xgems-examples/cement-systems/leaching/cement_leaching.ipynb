{
 "cells": [
  {
   "cell_type": "markdown",
   "id": "13373580-f563-4615-979d-f691e537eaae",
   "metadata": {},
   "source": [
    "## Example: Leaching of cement with water or clay pore solution \n",
    "\n",
    "**Authors: G. Dan Miron**"
   ]
  },
  {
   "cell_type": "markdown",
   "id": "376d4f00-a260-450d-990c-946a7f6df9ab",
   "metadata": {},
   "source": [
    "## Import python packages"
   ]
  },
  {
   "cell_type": "code",
   "execution_count": null,
   "id": "27635eae-ab06-4c42-8e81-0e083359791b",
   "metadata": {},
   "outputs": [],
   "source": [
    "import xgems as xg\n",
    "import numpy as np\n",
    "import pandas as pd"
   ]
  },
  {
   "cell_type": "markdown",
   "id": "3b1f94f6-3ccc-4444-b558-5811e8cca29d",
   "metadata": {},
   "source": [
    "## Initalize an xgems chemical engine"
   ]
  },
  {
   "cell_type": "code",
   "execution_count": null,
   "id": "24a6760b-276e-474a-82bc-bdb2fd20db5c",
   "metadata": {},
   "outputs": [],
   "source": [
    "xg_system_filename='gems_files/PC-dat.lst'\n",
    "xgEngine = xg.ChemicalEngine(xg_system_filename)"
   ]
  },
  {
   "cell_type": "markdown",
   "id": "9a8ea76d-076d-4ac1-a1e3-7af88173ea02",
   "metadata": {},
   "source": [
    "## Setting Up Containers for Input and Output\n",
    "\n",
    "- Rather than defining all indexes manually, it's more efficient to maintain lists of phases and elements. *(Tip: these lists can be copied from GEM-Selektor and edited easily in a text editor.)*  \n",
    "- You can also use the pre-prepared lists provided in the help folder, such as `elements_phases.txt`.  \n",
    "- Notice that we work with two types of containers:  \n",
    "  1. `element_symbols` is a simple array (a list of symbols).  \n",
    "  2. `phase_names` is a more complex structure called a dictionary — a collection of labeled items, where each item has a key (name) and an associated value.  \n",
    "- Dictionaries are useful for handling phase name aliases and grouping, and they allow us to build more sophisticated data structures if needed.  \n",
    "- We can apply the same approach to create dictionaries mapping phases and elements to their respective indexes. This eliminates the need to define each index individually.\n"
   ]
  },
  {
   "cell_type": "code",
   "execution_count": null,
   "id": "2a1aca30-56fb-4a6b-ab62-593b308bce2c",
   "metadata": {},
   "outputs": [],
   "source": [
    "# lists of elements and phases\n",
    "element_symbols = ['Al', 'C', 'Ca', 'Cl', 'Fe', 'H', 'K', 'Mg', 'Na', 'O', 'S', 'Si', 'Zz']\n",
    "phase_names = {\n",
    "    'CSHQ': 'CSH',\n",
    "    'ettringite': 'ettrignite',\n",
    "    'SO4_CO3_AFt': 'ettrignite',\n",
    "    'CO3_SO4_AFt': 'ettrignite',\n",
    "    'thaumasite': 'thaumasite',\n",
    "    'SO4_OH_AFm': 'monosulphate',\n",
    "    'OH_SO4_AFm': 'monosulphate',\n",
    "    'C4AcH11': 'monocarbonate',\n",
    "    'OH-hydrotalcite': 'hydrotalcite',\n",
    "    'Kuzels': 'Kuzel_s',\n",
    "    'Friedels': 'Friedel_s',\n",
    "    'straetlingite': 'straetlingite',\n",
    "    'Calcite': 'calcite',\n",
    "    'MSH': 'MSH',\n",
    "    'Gypsum': 'gypsum',\n",
    "    'Portlandite': 'portlandite',\n",
    "    'Natrolite': 'zeolites',\n",
    "    'ZeoliteX': 'zeolites',\n",
    "    'ZeoliteY': 'zeolites',\n",
    "    'ZeoliteP': 'zeolites',\n",
    "    'Chabazite': 'zeolites',\n",
    "    'C3(AF)S0.84H': 'hydrogarnet',\n",
    "    'C3FS1.34H3.32': 'hydrogarnet',\n",
    "    'Ferrihydrite-mc': 'ferryhidrite',\n",
    "    'Al(OH)3mic': 'Al(OH)3(mic)',\n",
    "    'aq_gen': 'aqueous',\n",
    "}"
   ]
  },
  {
   "cell_type": "code",
   "execution_count": null,
   "id": "9e992f36-32c1-4f44-a25d-3e7c84ad86e5",
   "metadata": {},
   "outputs": [],
   "source": [
    "# A value in a dictionary is accessed using its key, similar to how an index is used to access an element in a normal list.\n",
    "phase_names['CSHQ']"
   ]
  },
  {
   "cell_type": "code",
   "execution_count": null,
   "id": "6e4c7c92-6818-4f5f-b075-93648ae68cc0",
   "metadata": {},
   "outputs": [],
   "source": [
    "# Example for Aluminum (Al), but ultimately, we want to have a dictionary containing all elements.\n",
    "element_indexes = {'Al': xgEngine.indexElement('Al')}\n",
    "element_indexes"
   ]
  },
  {
   "cell_type": "code",
   "execution_count": null,
   "id": "4f1bc67a-cb2e-4ef3-a9ad-bf37bf275aad",
   "metadata": {},
   "outputs": [],
   "source": [
    "# Creating the dictionary manually would require a lot of typing.  \n",
    "# Instead, we can use a loop to automate the process.  \n",
    "# By applying the pattern shown above and adding a `for` loop (in Python), we can efficiently build the dictionary.  \n",
    "# (Tip: ChatGPT can be a great help with generating such code.)\n",
    "\n",
    "# element_indexes = {symbol: xgEngine.indexElement(symbol)}\n",
    "\n",
    "element_indexes = {symbol: xgEngine.indexElement(symbol) for symbol in element_symbols}\n",
    "element_indexes"
   ]
  },
  {
   "cell_type": "code",
   "execution_count": null,
   "id": "8fb386a4-185a-4b94-ba31-c0f6288fc0f4",
   "metadata": {},
   "outputs": [],
   "source": [
    "# we do the same thing for the phases\n",
    "phase_indexes = {name: xgEngine.indexPhase(name) for name in phase_names}"
   ]
  },
  {
   "cell_type": "code",
   "execution_count": null,
   "id": "d948aae5-f164-439f-803a-1d76bef77a78",
   "metadata": {},
   "outputs": [],
   "source": [
    "# now we can define what we want as output\n",
    "output_aqueous_elements = ['Ca', 'Si', 'S', 'C']\n",
    "output_properties = ['cycle', 'pH', 'gems_code', 'Ca/Si in CSH']\n",
    "\n",
    "# for phases we keep the same as we have in phase_names - this is a trick to get unique values \n",
    "# dict.fromkeys() creates a dictionary with the values as keys (which are unique), preserving their first occurrence order.\n",
    "# Converting back to a list gives you a unique, ordered list.\n",
    "output_phases = list(dict.fromkeys(phase_names.values()))\n",
    "\n",
    "#output_phases\n",
    "\n",
    "# or we can just use phase_names.values() "
   ]
  },
  {
   "cell_type": "code",
   "execution_count": null,
   "id": "b5c6e300-b3f2-4b75-b74d-b9a6d18bfd27",
   "metadata": {},
   "outputs": [],
   "source": [
    "# initalize the output containers, also dictionaries\n",
    "# imagine these like an empty table with column names and values in rows\n",
    "\n",
    "aqueous_table = {element: [] for element in output_aqueous_elements}\n",
    "\n",
    "# Since we want the group names rather than individual phases,  \n",
    "# we loop through the dictionary values instead of the keys.\n",
    "solids_volume_table = {phase: [] for phase in phase_names.values()}\n",
    "\n",
    "properties_table = {prop: [] for prop in output_properties}\n",
    "properties_table\n",
    "solids_volume_table"
   ]
  },
  {
   "cell_type": "code",
   "execution_count": null,
   "id": "4b911d12-e5fe-4e65-888d-c4d90e28d1c5",
   "metadata": {},
   "outputs": [],
   "source": [
    "# Finally, we want to create a dictionary where the keys are group names (outputs),  \n",
    "# and the values are lists of indexes for the phases that belong to each group. (i.e., more phases belong to ettringite)\n",
    "\n",
    "grouped_output_phase_indexes = {}\n",
    "for phase, name in phase_names.items():\n",
    "    grouped_output_phase_indexes.setdefault(name, []).append(phase_indexes[phase])\n",
    "grouped_output_phase_indexes"
   ]
  },
  {
   "cell_type": "markdown",
   "id": "06763059-e70e-40b0-9a69-dcab81a5c5da",
   "metadata": {},
   "source": [
    "## Defining the leaching solution and script"
   ]
  },
  {
   "cell_type": "code",
   "execution_count": null,
   "id": "017d87fa-515c-43a6-9342-c307458c49d0",
   "metadata": {},
   "outputs": [],
   "source": [
    "# defining the b_ for leaching solution = water\n",
    "# we copy the system b and empty it, we then add the formula of water\n",
    "# this we divide with the molar mass * 1000 to have 1 kg of H2O\n",
    "# we call it b_solution to be able to reuseit\n",
    "b_solution = xgEngine.elementAmounts().copy()\n",
    "b_solution[:] = 1e-9\n",
    "# 1 kg water\n",
    "b_solution[element_indexes['H']] = 2\n",
    "b_solution[element_indexes['O']] = 1 #+ 0.001\n",
    "b_solution = b_solution*1000/18.015"
   ]
  },
  {
   "cell_type": "raw",
   "id": "23cdeed1-caa5-4826-b101-c6b19daa5a3a",
   "metadata": {},
   "source": [
    "# To run the leachning with clay pore water you need to set this cell as 'code' in the toolbar above \n",
    "# restart the notebook and rerun all cells before\n",
    "# we define the solution b\n",
    "# in this case was taken from a compos record in GEMS\n",
    "# add 1.1*b_solution and 1000 cycles\n",
    "\n",
    "#  to limit the replacement when most of cement is leached \n",
    "#    if aq_mass < 10:\n",
    "#        b_recipe_new = b_recipe_new + 1.1*b_solution * aq_mass\n",
    "#    else:\n",
    "#        b_recipe_new = b_recipe_new + 1.1*b_solution * 10\n",
    "\n",
    "b_solution = xgEngine.elementAmounts().copy()\n",
    "b_solution[:] = 1e-9\n",
    "# 1 kg clay solution\n",
    "b_solution[element_indexes['Al']] = 8.49E-09\n",
    "b_solution[element_indexes['C']] = 0.002069057\n",
    "b_solution[element_indexes['Ca']] = 2.67E-02\n",
    "b_solution[element_indexes['Cl']] = 0.239213086\n",
    "b_solution[element_indexes['Fe']] = 0.000110956\n",
    "b_solution[element_indexes['H']] = 109.1572\n",
    "b_solution[element_indexes['K']] = 0.00114057\n",
    "b_solution[element_indexes['Mg']] = 0.01516463\n",
    "b_solution[element_indexes['Na']] = 0.1986165\n",
    "b_solution[element_indexes['O']] = 54.66971\n",
    "b_solution[element_indexes['S']] = 0.02141914\n",
    "b_solution[element_indexes['Si']] = 0.000168709"
   ]
  },
  {
   "cell_type": "code",
   "execution_count": null,
   "id": "b825a420-8932-482a-a106-cab0d68f9a1a",
   "metadata": {},
   "outputs": [],
   "source": [
    "# help file\n",
    "# writting the leaching script\n",
    "\n",
    "P=1e5 # 10 bar = 1e5 Pa\n",
    "T=20.0+273.15 # Temperatur in Kelvin\n",
    "\n",
    "# Initial dummy values\n",
    "aq_elements = xgEngine.elementAmounts().copy()\n",
    "aq_elements[:] = 1e-20\n",
    "aq_mass = 0.0\n",
    "\n",
    "# Equilibration loop\n",
    "for c in range(1, 10001):\n",
    "    xgEngine.setColdStart()\n",
    "\n",
    "    # Replace pore solution with fresh water\n",
    "    b_recipe_new = xgEngine.elementAmounts().copy()\n",
    "    b_recipe_new = b_recipe_new - aq_elements\n",
    "#    if aq_mass < 10:\n",
    "    b_recipe_new = b_recipe_new + 1.0*b_solution * aq_mass\n",
    "#    else:\n",
    "#        b_recipe_new = b_recipe_new + 1.1*b_solution * 10\n",
    "\n",
    "    code = xgEngine.equilibrate(T, P, b_recipe_new)\n",
    "    aq_volume = xgEngine.phaseVolume(phase_indexes['aq_gen']) * 1000  # m³ to L\n",
    "    aq_mass = xgEngine.phaseMass(phase_indexes['aq_gen'])  # kg\n",
    "    aq_elements = xgEngine.elementAmountsInPhase(phase_indexes['aq_gen'])\n",
    "    CSH_elements = xgEngine.elementAmountsInPhase(phase_indexes['CSHQ'])\n",
    "\n",
    "    # properties\n",
    "    properties_table['cycle'].append(c)\n",
    "    properties_table['Ca/Si in CSH'].append(CSH_elements[element_indexes['Ca']]/CSH_elements[element_indexes['Si']])\n",
    "    properties_table['pH'].append(xgEngine.pH())\n",
    "    properties_table['gems_code'].append(code)\n",
    "\n",
    "    # Aqueous species concentrations\n",
    "    for element in output_aqueous_elements:\n",
    "        index = element_indexes[element]\n",
    "        aqueous_table[element].append(1000*aq_elements[index] / aq_volume)\n",
    "\n",
    "    # Solid phase volumes\n",
    "    for phase, ndx_list in grouped_output_phase_indexes.items():\n",
    "        vol = sum(xgEngine.phaseVolume(ndx) for ndx in ndx_list)\n",
    "        solids_volume_table[phase].append(vol * 1e6)  # m³ to cm³\n",
    "    # This causes the printed line to be overwritten on each loop iteration, instead of printing a new line each time. \n",
    "    print('\\rcalculate for cycle', c, 'code', code, end='')    "
   ]
  },
  {
   "cell_type": "code",
   "execution_count": null,
   "id": "f9ea2e18-da81-4b4d-8914-6481dcfef5ec",
   "metadata": {},
   "outputs": [],
   "source": [
    "# simple plot\n",
    "import matplotlib.pyplot as plt\n",
    "\n",
    "plt.plot(properties_table['cycle'], properties_table['pH'], label='pH', color='black', linestyle='--')\n",
    "plt.legend()\n",
    "plt.show()"
   ]
  },
  {
   "cell_type": "code",
   "execution_count": null,
   "id": "9cc22ebb-b55c-4c0c-a4ec-6ef4de291de1",
   "metadata": {},
   "outputs": [],
   "source": [
    "# plot the results\n",
    "# ask chat gpt: how to save the figure\n",
    "import matplotlib.pyplot as plt\n",
    "import numpy as np\n",
    "\n",
    "plt.rcParams.update({'font.size': 15})\n",
    "\n",
    "# Create plot\n",
    "fig, ax1 = plt.subplots(figsize=(7, 5))\n",
    "\n",
    "for elem in output_aqueous_elements:\n",
    "    ax1.plot(properties_table['cycle'], aqueous_table[elem], label=elem)\n",
    "\n",
    "ax1.set_xlabel('Cycle')\n",
    "ax1.set_ylabel('total conc. in solution (mmol/l)')\n",
    "ax1.set_title('Leaching of OPC with water at 20 °C')\n",
    "ax1.grid(True)\n",
    "ax1.set_xscale('log')\n",
    "\n",
    "ax2 = ax1.twinx()\n",
    "ax2.plot(properties_table['cycle'], properties_table['pH'], label='pH', color='black', linestyle='--')\n",
    "ax2.set_ylabel('pH')\n",
    "\n",
    "lines1, labels1 = ax1.get_legend_handles_labels()\n",
    "lines2, labels2 = ax2.get_legend_handles_labels()\n",
    "ax1.legend(lines1 + lines2, labels1 + labels2, loc='upper right')\n",
    "\n",
    "plt.tight_layout()\n",
    "plt.show()"
   ]
  },
  {
   "cell_type": "code",
   "execution_count": null,
   "id": "bb44037b-a9d5-4761-b3c6-e6c7b2680124",
   "metadata": {},
   "outputs": [],
   "source": [
    "# Assume solid_data_volumes is a dictionary filled with lists of equal length\n",
    "# Extract the x-axis (cycle) and the y-values (each mineral phase)\n",
    "x = properties_table['cycle']\n",
    "\n",
    "# Y-values in correct order\n",
    "y_values = [solids_volume_table[phase] for phase in solids_volume_table]\n",
    "\n",
    "# Labels for legend\n",
    "labels = [phase for phase in solids_volume_table]  # You can make this prettier manually if needed\n",
    "\n",
    "# Color palette (optional): provide your own or use matplotlib defaults\n",
    "colors = plt.cm.tab20c(range(len(solids_volume_table)))  # or a custom list\n",
    "\n",
    "# Optional hatches, !!! lenght the same as output phases\n",
    "hatches = ['/', '\\\\', '|', '-', '+', 'x', 'o', 'O', '.', '*', '//', 'xx', '\\\\\\\\', '||', '++', 'oo', '**', '..']\n",
    "\n",
    "# Create the stacked area plot\n",
    "fig, ax = plt.subplots(figsize=(12, 6))\n",
    "stacks = ax.stackplot(x, *y_values, labels=labels, colors=colors, alpha=0.8)\n",
    "\n",
    "# Apply hatching\n",
    "for stack, hatch in zip(stacks, hatches):\n",
    "    stack.set_hatch(hatch)\n",
    "\n",
    "# Axis labels and limits\n",
    "ax.set_xlabel('Cycle')\n",
    "ax.set_ylabel('Phase volume (cm$^3$/100 g cement)')\n",
    "ax.set_title('Solid Phase Volume Evolution During Leaching')\n",
    "#ax.set_xlim(min(x), max(x))\n",
    "#ax.set_ylim(0, max([sum(vals) for vals in zip(*y_values)]) * 1.1)\n",
    "ax.set_ylim(0, 100)\n",
    "ax.set_xscale('log')\n",
    "\n",
    "# Create a second y-axis for pH\n",
    "ax2 = ax.twinx()\n",
    "ax2.plot(x, properties_table['Ca/Si in CSH'], label='Ca/Si in CSH', color='black', linestyle='--')\n",
    "ax2.set_ylabel('Ca/Si in CSH')\n",
    "\n",
    "# Combine legends from both axes\n",
    "lines1, labels1 = ax.get_legend_handles_labels()\n",
    "lines2, labels2 = ax2.get_legend_handles_labels()\n",
    "ax.legend(lines1 + lines2, labels1 + labels2, loc='upper right',  bbox_to_anchor=(1.35, 1.0), fontsize=10)\n",
    "\n",
    "plt.tight_layout()\n",
    "plt.show()"
   ]
  },
  {
   "cell_type": "markdown",
   "id": "c88bdca3-f514-4dcf-9312-5a4f7b71a8b3",
   "metadata": {},
   "source": [
    "## Leaching with clay pore solution"
   ]
  },
  {
   "cell_type": "code",
   "execution_count": null,
   "id": "0bcad99c-3f22-4f58-9cc5-11eeb3a3b44e",
   "metadata": {},
   "outputs": [],
   "source": [
    "##write results to file, ask chetgpt how to "
   ]
  },
  {
   "cell_type": "code",
   "execution_count": null,
   "id": "559055cf-a20a-450f-8e42-c45ade801de4",
   "metadata": {},
   "outputs": [],
   "source": [
    "import pandas as pd\n",
    "\n",
    "# Convert dicts to DataFrames\n",
    "df_properties = pd.DataFrame(properties_table)\n",
    "df_aqueous = pd.DataFrame(aqueous_table)\n",
    "df_solids = pd.DataFrame(solids_volume_table)\n",
    "\n",
    "# Concatenate them side-by-side\n",
    "combined_df = pd.concat([df_properties, df_aqueous, df_solids], axis=1)\n",
    "\n",
    "# Write to CSV\n",
    "combined_df.to_csv('combined_data.csv', index=False)\n",
    "\n",
    "print(\"Combined data written to combined_data.csv\")"
   ]
  },
  {
   "cell_type": "code",
   "execution_count": null,
   "id": "4053e4b7-6244-4a80-a07d-341c563deb73",
   "metadata": {},
   "outputs": [],
   "source": []
  }
 ],
 "metadata": {
  "kernelspec": {
   "display_name": "Python 3 (ipykernel)",
   "language": "python",
   "name": "python3"
  },
  "language_info": {
   "codemirror_mode": {
    "name": "ipython",
    "version": 3
   },
   "file_extension": ".py",
   "mimetype": "text/x-python",
   "name": "python",
   "nbconvert_exporter": "python",
   "pygments_lexer": "ipython3",
   "version": "3.10.18"
  }
 },
 "nbformat": 4,
 "nbformat_minor": 5
}
