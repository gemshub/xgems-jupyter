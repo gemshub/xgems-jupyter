{
 "cells": [
  {
   "cell_type": "markdown",
   "id": "7927fea6-4e72-4369-87f7-9c26b8f00843",
   "metadata": {},
   "source": [
    "## Example: OPC cement hydration using the Parrot-Killoh model  \n",
    "\n",
    "**Authors: R.A. Patel**\n",
    "\n",
    "**Modified: G.D. Miron**"
   ]
  },
  {
   "cell_type": "code",
   "execution_count": null,
   "id": "00882e5c-fb26-4b9d-b482-575994ef53b2",
   "metadata": {},
   "outputs": [],
   "source": [
    "# folder run contains the file hydration.py where several functions are implemented and imported bellow \n",
    "from run.hydration import run_hydration\n",
    "from run.hydration import parrot_killoh\n",
    "from run.hydration import to_phase_first_dict\n",
    "from run.hydration import plot_bars\n",
    "from run.hydration import phase_plot\n",
    "import pandas as pd"
   ]
  },
  {
   "cell_type": "code",
   "execution_count": null,
   "id": "26bdbba5-f466-4bfe-b918-c141473a2974",
   "metadata": {
    "tags": []
   },
   "outputs": [],
   "source": [
    "# input recipe\n",
    "clinker_phases = {}\n",
    "clinker_phases[\"C3S\"]=64.6 \n",
    "clinker_phases[\"C2S\"]=9.3\n",
    "clinker_phases[\"C3A\"]=7.4\n",
    "clinker_phases[\"C4AF\"]=7.8\n",
    "CSH2 = 2.2 # gypsum\n",
    "\n",
    "wc = 0.5 # water/cement\n",
    "RH = 1 # relative humidity\n",
    "T = 25 # temperature\n",
    "fineness = 385 "
   ]
  },
  {
   "cell_type": "code",
   "execution_count": null,
   "id": "5c9be4da-c4f9-4688-b6bf-145b58ecd2bf",
   "metadata": {},
   "outputs": [],
   "source": [
    "# Run parrot killoh clinker hydration, returns overall rate of cement clinker dissolution - degree of hydration DoH\n",
    "DoH = parrot_killoh(wc, RH, T, fineness) "
   ]
  },
  {
   "cell_type": "code",
   "execution_count": null,
   "id": "c9c47129-1de3-47bb-85a0-aa571425e033",
   "metadata": {
    "tags": []
   },
   "outputs": [],
   "source": [
    "# run hydration\n",
    "# GEMS system is initialized and calculations run for each time step. Hydration code can be seen in /run/hydration.py \n",
    "# returns the volume fraction, masses and densities of phases \n",
    "vol_frac, mass_frac, density = run_hydration(clinker_phases, wc, CSH2, T, DoH)"
   ]
  },
  {
   "cell_type": "code",
   "execution_count": null,
   "id": "3d233d99-1145-4cf1-9166-1386effe22e6",
   "metadata": {
    "tags": []
   },
   "outputs": [],
   "source": [
    "# function to rearange and plot the results\n",
    "gems_vol_frac_phase_first = to_phase_first_dict(vol_frac)\n",
    "gems_masses_phase_first = to_phase_first_dict(mass_frac)\n",
    "p2 = phase_plot(gems_vol_frac_phase_first)\n",
    "p2.show()"
   ]
  },
  {
   "cell_type": "code",
   "execution_count": null,
   "id": "6e4de590-90eb-4ce7-83c6-d8c8fd2e4440",
   "metadata": {},
   "outputs": [],
   "source": [
    "# write results to file\n",
    "gems_vol_frac_phase_first.update((x, y*100) for x, y in gems_vol_frac_phase_first.items())\n",
    "pd_vol_frac = pd.DataFrame.from_dict(gems_vol_frac_phase_first) \n",
    "pd_vol_frac.to_csv('results_hydration.csv')"
   ]
  }
 ],
 "metadata": {
  "kernelspec": {
   "display_name": "Python 3 (ipykernel)",
   "language": "python",
   "name": "python3"
  },
  "language_info": {
   "codemirror_mode": {
    "name": "ipython",
    "version": 3
   },
   "file_extension": ".py",
   "mimetype": "text/x-python",
   "name": "python",
   "nbconvert_exporter": "python",
   "pygments_lexer": "ipython3",
   "version": "3.10.18"
  }
 },
 "nbformat": 4,
 "nbformat_minor": 5
}
